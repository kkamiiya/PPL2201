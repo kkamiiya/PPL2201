{
 "cells": [
  {
   "cell_type": "markdown",
   "metadata": {},
   "source": [
    "# 주피터 노트북 사용법\n"
   ]
  },
  {
   "cell_type": "markdown",
   "metadata": {},
   "source": [
    "### 1. 주피터 노트북 단축기\n",
    "    - ctrl + enter  실행\n",
    "    - shift + enter 실행후 아래 셀 선택, 아래쪽에 셀이 없다면 셀 추가\n",
    "    - alt + enter   실행 후 아래쪽에 새로운 셀 추가 \n",
    "    - a 위쪽에 셀추가\n",
    "    - b 아래쪽에 셀추가 \n",
    "    - dd 셀 삭제 \n",
    "    - enter 명령모드에서 입력모드로 전환\n",
    "    - Esc  입력모드에서 명령모드로 전환 \n",
    "    - m 명령모드에서 셀타입을 마크다운으로 저장\n",
    "    - y 명령모드에서 셀 타입을 코드로 전환 \n",
    "    - ctrl + /  셀 편집영역에서 선택된 코드의 주석/ 비주석 처리 \n",
    "\n",
    "\n"
   ]
  },
  {
   "cell_type": "markdown",
   "metadata": {},
   "source": [
    "### 2. 마크다운 사용하기\n",
    "\n",
    "-  마크다운이란? \n",
    "\n",
    "[**Markdown**](http://whatismarkdown.com/)은 텍스트 기반의 마크업언어로 2004년 존그루버에 의해 만들어졌으며 쉽게 쓰고 읽을 수 있으며 HTML로 변환이 가능하다. 특수기호와 문자를 이용한 매우 간단한 구조의 문법을 사용하여 웹에서도 보다 빠르게 컨텐츠를 작성하고 보다 직관적으로 인식할 수 있다.\n",
    "\n",
    "- 장점 \n",
    "    1. 간결하다.\n",
    "\t2. 별도의 도구없이 작성가능하다.\n",
    "\t3. 다양한 형태로 변환이 가능하다.\n",
    "\t4. 텍스트(Text)로 저장되기 때문에 용량이 적어 보관이 용이하다.\n",
    "\t5. 텍스트파일이기 때문에 버전관리시스템을 이용하여 변경이력을 관리할 수 있다.\n",
    "\t6. 지원하는 프로그램과 플랫폼이 다양하다.\n",
    "    \n",
    "- 단점 \n",
    "    1. 표준이 없다.\n",
    "\t2. 표준이 없기 때문에 도구에 따라서 변환방식이나 생성물이 다르다.\n",
    "\t3. 모든 HTML 마크업을 대신하지 못한다.\n",
    "    "
   ]
  },
  {
   "cell_type": "markdown",
   "metadata": {},
   "source": [
    "- 사용법 \n",
    "\n",
    "\n",
    "\n",
    "\n",
    "### 제목\n",
    "\n",
    "```    \n",
    "    # 제목1\n",
    "    ## 제목2\n",
    "    ### 제목3\n",
    "    #### 제목4\n",
    "    #### 제목5\n",
    "    ##### 제목6    \n",
    "```\n"
   ]
  },
  {
   "cell_type": "markdown",
   "metadata": {},
   "source": [
    "### 목록\n",
    "        + 순서있는 목록 - 숫자와 점을 같이 사용한다.\n",
    "        \n",
    "```\n",
    "        1. 첫번째\n",
    "        2. 두번째\n",
    "        3. 세번째\n",
    "```\n",
    "        \n",
    "        \n",
    "     \n",
    "         + 순서없는 목록 - *, + , - 지원\n",
    "         \n",
    "```\n",
    "        * python\n",
    "            * mysql\n",
    "                * aws\n",
    "                \n",
    "        * python\n",
    "            + mysql\n",
    "                - aws\n",
    "        - python\n",
    "        - mysql\n",
    "        - aws\n",
    "```"
   ]
  },
  {
   "cell_type": "markdown",
   "metadata": {},
   "source": [
    "###  인용\n",
    "\n",
    "``` \n",
    "   인용문(blockQuote)\n",
    "\n",
    "> 남의 말이나 글에서 직접 또는 간접으로 따온 문장.\n",
    "> _(네이버 국어 사전)_\n",
    "\n",
    "BREAK!\n",
    "\n",
    "> 인용문을 작성하세요!\n",
    ">> 중첩된 인용문(nested blockquote)을 만들 수 있습니다.\n",
    ">>> 중중첩된 인용문 1\n",
    ">>> 중중첩된 인용문 2\n",
    ">>> 중중첩된 인용문 3\n",
    "\n",
    "```"
   ]
  },
  {
   "cell_type": "markdown",
   "metadata": {},
   "source": [
    "### 링크 \n",
    "\n",
    "```\n",
    "    [구글](https://google.com)\n",
    "\n",
    "    [구글](https://google.com \"구글입니다.\")\n",
    "\n",
    "    [상대적 참조](../board/main)\n",
    "\n",
    "    [구글][구글링크]\n",
    "    [gitHub][1]\n",
    "\n",
    "    구글 페이지 : <https://google.com> \n",
    "\n",
    "    [구글링크]: https://google.com \"Go google\"\n",
    "    [1] : https://github.com\n",
    "    [참조링크]:https://github.com \"깃헙으로 이동합니다.\"\n",
    "```\n",
    "\n",
    "\n",
    "\n",
    "```\n",
    "일반적인 URL 혹은 이메일주소인 경우 꺾쇠 괄호(< >)안의 URL은 자동으로 링크를 사용합니다.\n",
    "\n",
    "* 외부링크: <https://google.com>\n",
    "* 이메일링크: <carami@gmail.com>\n",
    "```\n"
   ]
  },
  {
   "cell_type": "markdown",
   "metadata": {},
   "source": []
  },
  {
   "cell_type": "markdown",
   "metadata": {},
   "source": [
    "### 이미지 \n",
    "\n",
    "* 링크와 비슷하지만, 앞에 ! 가 붙습니다. \n",
    "\n",
    "```\n",
    "\n",
    "![대체 텍스트(alternative text)를 입력하세요!](https://file.mk.co.kr/meet/neds/2021/06/image_readtop_2021_535745_16226846584668330.jpg \"링크 설명(title)을 작성하세요.\")\n",
    "\n",
    "![사과][logo]\n",
    "\n",
    "[logo]: https://src.hidoc.co.kr/image/lib/2021/9/17/1631863503853_0.jpg \"사과입니다.\"\n",
    "\n",
    "```"
   ]
  },
  {
   "cell_type": "markdown",
   "metadata": {},
   "source": [
    "### 코드강조 \n",
    "\n",
    "```\n",
    " *single asterisks*\n",
    "_single underscores_\n",
    "**double asterisks**\n",
    "__double underscores__\n",
    "~~cancelline~~\n",
    "\n",
    "```\n"
   ]
  },
  {
   "cell_type": "markdown",
   "metadata": {},
   "source": [
    "### 수평선\n",
    "\n",
    "각 기호를 3개 이상 입력 \n",
    "\n",
    "```\n",
    "--- \n",
    "\n",
    "***\n",
    "\n",
    "_____\n",
    "\n",
    "```"
   ]
  },
  {
   "cell_type": "markdown",
   "metadata": {},
   "source": [
    "### 표 \n",
    "\n",
    "- 헤더 셀을 구분할 때 3개 이상의 -(hyphen/dash) 기호가 필요합니다.\n",
    "- 헤더 셀을 구분하면서 :(Colons) 기호로 셀(열/칸) 안에 내용을 정렬할 수 있습니다.\n",
    "- 가장 좌측과 가장 우측에 있는 |(vertical bar) 기호는 생략 가능합니다.\n",
    "\n"
   ]
  },
  {
   "cell_type": "markdown",
   "metadata": {},
   "source": [
    "```\n",
    "\n",
    "| 값 | 의미 | 기본값 |\n",
    "|---|:---:|---:|\n",
    "| `static` | 유형(기준) 없음 / 배치 불가능 | `static` |\n",
    "| `relative` | 요소 자신을 기준으로 배치 |  |\n",
    "| `absolute` | 위치 상 부모(조상)요소를 기준으로 배치 |  |\n",
    "| `fixed` | 브라우저 창을 기준으로 배치 |  |\n",
    "\n",
    "값 | 의미 | 기본값\n",
    "---|:---:|---:\n",
    "`static` | 유형(기준) 없음 / 배치 불가능 | `static`\n",
    "`relative` | 요소 **자신**을 기준으로 배치 |\n",
    "`absolute` | 위치 상 **_부모_(조상)요소**를 기준으로 배치 |\n",
    "`fixed` | **브라우저 창**을 기준으로 배치 |\n",
    "\n",
    "\n",
    "```"
   ]
  },
  {
   "cell_type": "markdown",
   "metadata": {},
   "source": [
    "# 파이썬 코딩 컨벤션\n",
    "* 명확한 규칙은 없음\n",
    "* 때로는 팀마다, 프로젝트마다 따로\n",
    "* 중요한 건 일관성!!! \n",
    "* 읽기 좋은 코드가 좋은 코드 \n",
    "\n",
    "## 예시\n",
    "* 들여쓰기 Tab 또는 4 Space!!  \n",
    "* 일반적으로 4 Space를 권장함\n",
    "* 중요한 건 혼합하지 않으면 됨!! \n",
    "\n",
    "## PEP8 - 파이썬 코딩 컨벤션의 기준 \n",
    "* PEP(Python Enhance Proposal)\n",
    "* 파이썬 개선을 위한 제안서\n",
    "* PEP 8은 파이썬 코딩의 기준을 제시 \n",
    "    * 들여쓰기 공백 4칸을 권장\n",
    "    * 한 줄은 최대 79자까지\n",
    "    * 불필요한 공백은 피함  ex) def func( n )   - n 앞 뒤 공백같은것!! \n",
    "    * = 연산자는 1칸 이상 안 띄움 ex) a = 1  (0) a  = 1 (x) \n",
    "    * 주석은 항상 갱신, 불필요한 주석은 삭제\n",
    "    * 소문자 l, 대문자 O, 대문자 I 금지!! \n",
    "    * 함수명은 소문자로 구성, 필요하면 밑줄로 나눔\n",
    "    * \"flake8\" 모듈로 체크 - flake8 <파일명>\n",
    "    * conda install -c anaconda flake8  \n",
    "\n",
    "# 함수 작성 가이드 라인 \n",
    "\n",
    "   * 함수는 가능하면 짧게 작성할 것\n",
    "   * 함수 이름에 함수의 역할, 의도가 명확히 들어낼 것 \n",
    "   * 하나의 함수에는 유사한 역할을 하는 코드만 포함\n",
    "   * 인자로 받은 값 자체를 바꾸진 말 것 (임시변수 선언해서 사용) \n",
    "   \n",
    "  ## 함수는 언제 만드는가?\n",
    "  * 공통적으로 사용되는 코드는 함수로 변환\n",
    "  * 복잡한 수식 -> 식별 가능한 이름의 함수로 변환\n",
    "  * 복잡한 조건 -> 식별 가능한 이름의 함수로 변환 \n",
    "  \n",
    "  \n"
   ]
  }
 ],
 "metadata": {
  "kernelspec": {
   "display_name": "Python 3",
   "language": "python",
   "name": "python3"
  },
  "language_info": {
   "codemirror_mode": {
    "name": "ipython",
    "version": 3
   },
   "file_extension": ".py",
   "mimetype": "text/x-python",
   "name": "python",
   "nbconvert_exporter": "python",
   "pygments_lexer": "ipython3",
   "version": "3.7.6"
  }
 },
 "nbformat": 4,
 "nbformat_minor": 4
}
