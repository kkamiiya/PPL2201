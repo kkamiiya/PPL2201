{
 "cells": [
  {
   "cell_type": "markdown",
   "metadata": {},
   "source": [
    "### 학습목표\n",
    "1. 문자열 이해하기"
   ]
  },
  {
   "cell_type": "markdown",
   "metadata": {},
   "source": [
    "### **string (문자열)**\n",
    " - 문자 여러개가 순서대로 나열 된 것\n",
    " - 문자열은 '(작은따옴표) 혹은 \"(큰따옴표) 사이에 문자를 넣어서 생성\n",
    " - **''' '''** 사용하여 표현 가능\n",
    " \n",
    "     - '', \"\" -> 한줄 문자열 표현\n",
    "     - ''' ''' -> 어려줄에 걸쳐 문자열 표현 가능"
   ]
  },
  {
   "cell_type": "code",
   "execution_count": null,
   "metadata": {},
   "outputs": [],
   "source": [
    "\n"
   ]
  },
  {
   "cell_type": "code",
   "execution_count": null,
   "metadata": {},
   "outputs": [],
   "source": []
  },
  {
   "cell_type": "code",
   "execution_count": null,
   "metadata": {},
   "outputs": [],
   "source": []
  },
  {
   "cell_type": "code",
   "execution_count": null,
   "metadata": {},
   "outputs": [],
   "source": []
  },
  {
   "cell_type": "markdown",
   "metadata": {},
   "source": [
    "#### **escape string** \n",
    "* 문자열내의 일부 문자의 의미를 달리하여 `특정한 효과`를 주는 것\n",
    "* `\\n` : new line `\\t` : tab 등\n",
    "\n"
   ]
  },
  {
   "cell_type": "code",
   "execution_count": null,
   "metadata": {},
   "outputs": [],
   "source": []
  },
  {
   "cell_type": "code",
   "execution_count": null,
   "metadata": {},
   "outputs": [],
   "source": []
  },
  {
   "cell_type": "markdown",
   "metadata": {},
   "source": [
    "#### **indexing & slicing string **\n",
    "  - 문자열의 각 문자는 순서가 있는데, 이 순서를 **인덱스** 라고 한다.\n",
    "  - 첫번째 시작문자의 순서는 0으로 시작"
   ]
  },
  {
   "cell_type": "code",
   "execution_count": null,
   "metadata": {},
   "outputs": [],
   "source": []
  },
  {
   "cell_type": "code",
   "execution_count": null,
   "metadata": {},
   "outputs": [],
   "source": []
  },
  {
   "cell_type": "markdown",
   "metadata": {},
   "source": [
    "#### **-1 인덱스**\n",
    "  - python의 경우 음수 인덱스를 지원한다.\n",
    "  - -1이 가장 마지막 인덱스를, -2가 마지막에서 두번째 인덱스를 의미한다."
   ]
  },
  {
   "cell_type": "code",
   "execution_count": null,
   "metadata": {},
   "outputs": [],
   "source": []
  },
  {
   "cell_type": "markdown",
   "metadata": {},
   "source": [
    "#### **인덱스의 범위**\n",
    "  - 인덱스는 [0, 문자열의 길이) 의 범위만 유효하다.\n",
    "  - 음수 인덱스를 사용할 경우, [-문자열의 길이, -1]\n",
    "  - 범위를 넘어갈 경우 에러 발생한다."
   ]
  },
  {
   "cell_type": "code",
   "execution_count": null,
   "metadata": {},
   "outputs": [],
   "source": []
  },
  {
   "cell_type": "markdown",
   "metadata": {},
   "source": [
    "#### **문자열 slicing**\n",
    "  - slicing은 부분 문자열을 추출한다.\n",
    "  - [시작:끝]와 같이 명시하여 (시작, 끝)에 해당하는 부분 문자열을 추출한다.\n",
    "  - 시작, 끝 인덱스가 생략이 되어 있다면, 0부터 혹은 끝까지로 간주한다."
   ]
  },
  {
   "cell_type": "code",
   "execution_count": null,
   "metadata": {},
   "outputs": [],
   "source": []
  },
  {
   "cell_type": "code",
   "execution_count": null,
   "metadata": {},
   "outputs": [],
   "source": []
  },
  {
   "cell_type": "code",
   "execution_count": null,
   "metadata": {},
   "outputs": [],
   "source": []
  },
  {
   "cell_type": "code",
   "execution_count": null,
   "metadata": {},
   "outputs": [],
   "source": []
  },
  {
   "cell_type": "markdown",
   "metadata": {},
   "source": [
    "#### **문자열 함수**\n",
    "  - 문자열은 여러가지 기능 제공을 위한 함수를 내장하고 있다.   \n",
    "  - tab키를 이용해서 제공하는 함수들을 확인 할 수 있다. "
   ]
  },
  {
   "cell_type": "code",
   "execution_count": null,
   "metadata": {},
   "outputs": [],
   "source": []
  },
  {
   "cell_type": "markdown",
   "metadata": {},
   "source": [
    "* **replace** \n",
    " - 문자열 내의 특정 문자를 치환"
   ]
  },
  {
   "cell_type": "markdown",
   "metadata": {},
   "source": [
    "* **format**\n",
    " - 문자열내의 특정한 값을 변수로부터 초기화하여 동적으로 문자열을 생성 "
   ]
  },
  {
   "cell_type": "markdown",
   "metadata": {},
   "source": [
    "* **split**\n",
    " - 문자열을 특정한 문자 구분하여(delimiter) 문자열의 리스트로 치환"
   ]
  },
  {
   "cell_type": "code",
   "execution_count": null,
   "metadata": {},
   "outputs": [],
   "source": []
  },
  {
   "cell_type": "code",
   "execution_count": null,
   "metadata": {},
   "outputs": [],
   "source": []
  },
  {
   "cell_type": "code",
   "execution_count": null,
   "metadata": {},
   "outputs": [],
   "source": []
  },
  {
   "cell_type": "markdown",
   "metadata": {},
   "source": [
    "* **join**\n",
    "    - 구분자 문자열과 문자열 리스트 연결하기"
   ]
  },
  {
   "cell_type": "markdown",
   "metadata": {},
   "source": [
    "* **특정문자삭제**"
   ]
  },
  {
   "cell_type": "code",
   "execution_count": null,
   "metadata": {},
   "outputs": [],
   "source": []
  },
  {
   "cell_type": "code",
   "execution_count": 1,
   "metadata": {},
   "outputs": [],
   "source": [
    "#비교연산  is 같은 객체인   is not 같은 객체가 아닌..  x or y , x and y , not x\n"
   ]
  },
  {
   "cell_type": "code",
   "execution_count": null,
   "metadata": {},
   "outputs": [],
   "source": [
    "#문자열 타입\n",
    "\n",
    "#데이터가 여러 문자로 구성되어 있고 다른 문자와 연결될 수 있으며 데이터에 포함된 문자열의 길이를 확인 할 수 있는 데이터 타입\n",
    "\n",
    "#파이썬에서 문자열 데이터 타입은 str  여러줄로 표현할때는 ''' '''  또는 \"\"\" \"\"\"\n"
   ]
  },
  {
   "cell_type": "code",
   "execution_count": 3,
   "metadata": {},
   "outputs": [],
   "source": [
    "#변할 수 없는 (immutable) vs 변할 수 있는 (mutabel)\n",
    "\n"
   ]
  },
  {
   "cell_type": "code",
   "execution_count": 2,
   "metadata": {
    "scrolled": true
   },
   "outputs": [
    {
     "name": "stdout",
     "output_type": "stream",
     "text": [
      "hhhhhhhhhhhh\n"
     ]
    }
   ],
   "source": [
    "print('h'*12)"
   ]
  },
  {
   "cell_type": "code",
   "execution_count": null,
   "metadata": {},
   "outputs": [],
   "source": []
  }
 ],
 "metadata": {
  "kernelspec": {
   "display_name": "Python 3",
   "language": "python",
   "name": "python3"
  },
  "language_info": {
   "codemirror_mode": {
    "name": "ipython",
    "version": 3
   },
   "file_extension": ".py",
   "mimetype": "text/x-python",
   "name": "python",
   "nbconvert_exporter": "python",
   "pygments_lexer": "ipython3",
   "version": "3.7.6"
  }
 },
 "nbformat": 4,
 "nbformat_minor": 1
}
