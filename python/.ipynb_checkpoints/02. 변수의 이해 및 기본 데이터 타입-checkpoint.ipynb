{
 "cells": [
  {
   "cell_type": "markdown",
   "metadata": {},
   "source": [
    "### 학습목표\n",
    "1. python 에서 변수 이해하기\n",
    "2. 기본 데이터 타입 선언하기\n",
    " - int, float, str, bool"
   ]
  },
  {
   "cell_type": "markdown",
   "metadata": {},
   "source": [
    "### 기본 데이터 타입\n"
   ]
  },
  {
   "cell_type": "markdown",
   "metadata": {},
   "source": [
    "##### =  대입 연산자,  ==  비교 연산자 \n",
    "\n",
    " "
   ]
  },
  {
   "cell_type": "markdown",
   "metadata": {},
   "source": [
    "#### **comment(주석)**\n",
    "  "
   ]
  },
  {
   "cell_type": "markdown",
   "metadata": {},
   "source": [
    "#### **print 함수**"
   ]
  },
  {
   "cell_type": "markdown",
   "metadata": {},
   "source": [
    "* **print함수 설정**\n",
    " - sep : 구분자, 각 출력할 변수 사이에서 구별하는 역할을 함\n",
    " - end : 마지막에 출력할 문자열"
   ]
  },
  {
   "cell_type": "markdown",
   "metadata": {},
   "source": [
    "#### **변수 값 확인법**\n",
    " - print() 함수 사용\n",
    " - 변수 값을 코드의 마지막에 위치 시킨 후 실행\n",
    "   - 이 경우 output으로 변수의 값이 출력"
   ]
  },
  {
   "cell_type": "markdown",
   "metadata": {},
   "source": [
    "#### **variable naming (변수 이름 규칙)**\n",
    "  - 영문 대소문자, _, 숫자 사용 가능하다.\n",
    "  - 대소문자 구분한다.\n",
    "  - 숫자로 시작 할 수 없다. \n",
    "  - _ 로 시작 가능하다. \n",
    "  - 키워드(예약어)는 사용 할 수 없다. \n",
    "  "
   ]
  },
  {
   "cell_type": "markdown",
   "metadata": {},
   "source": [
    "#### 변수 여러개 한 번에 만들기 "
   ]
  },
  {
   "cell_type": "markdown",
   "metadata": {},
   "source": [
    "#### **reserved keywords (예약어)**\n",
    "  - python에서 미리 선점하여 사용중인 키워드\n",
    "  - 변수, 함수, 클래스 등등의 사용자 정의 이름으로 사용할 수 없음"
   ]
  },
  {
   "cell_type": "markdown",
   "metadata": {},
   "source": [
    "### 기본 데이터 타입 \n",
    "  - 정수 (int)\n",
    "  - 실수 (float)\n",
    "  - 문자열 (str)\n",
    "  - 불리언 (boolean)"
   ]
  },
  {
   "cell_type": "markdown",
   "metadata": {},
   "source": [
    "#### type 함수\n",
    " - 해당 변수, 값의 타입(type)을 알고자 할 때 사용"
   ]
  },
  {
   "cell_type": "markdown",
   "metadata": {},
   "source": [
    "#### **None**\n",
    " - 아무런 값을 갖지 않을 때 사용\n",
    " - 일반적으로 변수가 초기값을 갖지 않게 하여 해당 변수를 생성할 때 사용\n",
    " - 기타 언어의 NULL, nil등과 같은 의미로 사용"
   ]
  },
  {
   "cell_type": "markdown",
   "metadata": {},
   "source": [
    "#### **comparison operator(비교 연산자)** \n",
    "  - 프로그래밍에서는 비교를 할 경우, = 대신 **==**를 사용\n",
    "  - <, > (작다, 크다)\n",
    "  - <=, >= (작거나 같다, 크거나 같다)\n",
    "  - == 같다\n",
    "  - != 같지 않다\n",
    "  - 비교 연산자의 결과는 bool 타입"
   ]
  },
  {
   "cell_type": "markdown",
   "metadata": {},
   "source": [
    "#### **numbers (숫자형 타입)**\n",
    " - 정수, 실수로 구성\n",
    " - 수학의 기본 연산자(가감승제) 사용 가능"
   ]
  },
  {
   "cell_type": "markdown",
   "metadata": {},
   "source": [
    "#### **operator priorities (연산자 우선순위)**\n",
    "  - 기본적인 수학의 연산자와 동일\n",
    "  - 강제로 연산을 선수하기 위해선, 괄호()를 사용"
   ]
  },
  {
   "cell_type": "markdown",
   "metadata": {},
   "source": [
    "#### **expression evaluation & assignment (식평가 & 대입)**\n",
    " - 변수의 값이 변경되기 위해서는 =를 사용하여 대입이 발생하는 경우에만 해당"
   ]
  }
 ],
 "metadata": {
  "kernelspec": {
   "display_name": "Python 3",
   "language": "python",
   "name": "python3"
  },
  "language_info": {
   "codemirror_mode": {
    "name": "ipython",
    "version": 3
   },
   "file_extension": ".py",
   "mimetype": "text/x-python",
   "name": "python",
   "nbconvert_exporter": "python",
   "pygments_lexer": "ipython3",
   "version": "3.7.6"
  }
 },
 "nbformat": 4,
 "nbformat_minor": 1
}
